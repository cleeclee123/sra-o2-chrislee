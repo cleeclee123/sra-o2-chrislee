{
 "cells": [
  {
   "attachments": {},
   "cell_type": "markdown",
   "metadata": {},
   "source": [
    "The discrete cosine transform is a powerful technique for expressing data as a sum of cosine waves, and has many applications in audio and image compression. We will use the \"chunking\" technique discussed in the lab activity here to compress a whole image.\n",
    "\n",
    "Given a image, stored in the variable image, you will break the image into smaller  chunks. Then for each chunk, you will convert to the DCT basis, drop the frequencies with relatively small contribution, then convert back to the standard basis and clip the resulting pixel values so that they lie between 0 and 255. This image is given in gray scale, where each pixel varies from 0 to 255. To gauge which frequencies have a small contribution, use a tolerance of  of the largest absolute value in each particular chunk after converting it into the DCT basis."
   ]
  },
  {
   "cell_type": "code",
   "execution_count": null,
   "metadata": {},
   "outputs": [],
   "source": [
    "import numpy as np\n",
    "import numpy.linalg as la\n",
    "import matplotlib.pyplot as plt\n",
    "\n",
    "image = \"your image (512x512 numpy array) goes here\"\n",
    "\n",
    "plt.figure()\n",
    "plt.imshow(image, cmap='gray')\n",
    "\n",
    "compressed = image.copy()\n",
    "\n",
    "import numpy as np\n",
    "import numpy.linalg as la\n",
    "\n",
    "def create_dct_basis(N):\n",
    "    D = np.zeros((N, N))\n",
    "    x = ((np.arange(N) + 0.5) / N) * np.pi\n",
    "    for k in range(N):\n",
    "        D[:,k] = np.cos(x * k)\n",
    "        D[:,k] /= la.norm(D[:,k])\n",
    "    return D\n",
    "\n",
    "def compress_chunk(chunk):\n",
    "    maximum = 0\n",
    "    dct = create_dct_basis(8)\n",
    "    matrix = dct.T @ chunk @ dct\n",
    "    maximum = np.amax(abs(matrix)) * 0.1\n",
    "    \n",
    "    for j in range(matrix.shape[0]):\n",
    "        for z in range(matrix.shape[1]):\n",
    "            if abs(matrix[j, z]) < maximum:\n",
    "                matrix[j, z] = 0\n",
    "    \n",
    "    new = dct @ matrix @ dct.T\n",
    "    return np.clip(new, 0, 255, out=None)\n",
    "    \n",
    "for x in range(0, image.shape[0], 8):\n",
    "    for c in range(0, image.shape[1], 8):\n",
    "        chunk = image[x:x+8,c:c+8]\n",
    "        compressed[x:x+8,c:c+8] = compress_chunk(chunk)\n",
    "\n",
    "plt.figure()\n",
    "plt.imshow(compressed, cmap='gray')"
   ]
  }
 ],
 "metadata": {
  "language_info": {
   "name": "python"
  },
  "orig_nbformat": 4
 },
 "nbformat": 4,
 "nbformat_minor": 2
}
