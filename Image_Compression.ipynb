{
 "cells": [
  {
   "cell_type": "code",
   "execution_count": 1,
   "metadata": {},
   "outputs": [
    {
     "name": "stderr",
     "output_type": "stream",
     "text": [
      "Matplotlib created a temporary config/cache directory at /tmp/matplotlib-psaj1ee5 because the default path (/tmp/cache/matplotlib) is not a writable directory; it is highly recommended to set the MPLCONFIGDIR environment variable to a writable directory, in particular to speed up the import of Matplotlib and to better support multiprocessing.\n"
     ]
    }
   ],
   "source": [
    "import numpy as np\n",
    "import numpy.linalg as la\n",
    "import matplotlib.pyplot as plt\n",
    "%matplotlib inline"
   ]
  },
  {
   "cell_type": "markdown",
   "metadata": {},
   "source": [
    "# Image Compression"
   ]
  },
  {
   "cell_type": "markdown",
   "metadata": {},
   "source": [
    "We can also apply the DCT to compress images as well.  Here we have an $8 \\times 8$ image that we will attempt to compress with DCT.  Note that the pixel values range from $\\left[0, 1\\right]$, but we have colored it blue and orange for added emphasis."
   ]
  },
  {
   "cell_type": "code",
   "execution_count": null,
   "metadata": {},
   "outputs": [],
   "source": [
    "def create_dct_basis(N):\n",
    "    D = np.zeros((N, N))\n",
    "    x = ((np.arange(N) + 0.5) / N) * np.pi\n",
    "    for k in range(N):\n",
    "        D[:,k] = np.cos(x * k)\n",
    "        D[:,k] /= la.norm(D[:,k])\n",
    "    return D"
   ]
  },
  {
   "cell_type": "code",
   "execution_count": 2,
   "metadata": {},
   "outputs": [
    {
     "data": {
      "text/plain": [
       "<matplotlib.image.AxesImage at 0x7ffb3d0acac0>"
      ]
     },
     "execution_count": 2,
     "metadata": {},
     "output_type": "execute_result"
    },
    {
     "data": {
      "image/png": "[encoded data removed]",
      "text/plain": [
       "<Figure size 432x288 with 1 Axes>"
      ]
     },
     "metadata": {
      "needs_background": "light"
     },
     "output_type": "display_data"
    }
   ],
   "source": [
    "N = 8\n",
    "block_i = np.ones((N, N))\n",
    "block_i[1:-1, 3:5] = 0\n",
    "block_i[1:3, 2:6] = 0\n",
    "block_i[-3:-1, 2:6] = 0\n",
    "plt.imshow(block_i, cmap=\"RdYlBu\")"
   ]
  },
  {
   "cell_type": "code",
   "execution_count": 3,
   "metadata": {},
   "outputs": [
    {
     "name": "stdout",
     "output_type": "stream",
     "text": [
      "[[ 0.35355339  0.49039264  0.46193977  0.41573481  0.35355339  0.27778512\n",
      "   0.19134172  0.09754516]\n",
      " [ 0.35355339  0.41573481  0.19134172 -0.09754516 -0.35355339 -0.49039264\n",
      "  -0.46193977 -0.27778512]\n",
      " [ 0.35355339  0.27778512 -0.19134172 -0.49039264 -0.35355339  0.09754516\n",
      "   0.46193977  0.41573481]\n",
      " [ 0.35355339  0.09754516 -0.46193977 -0.27778512  0.35355339  0.41573481\n",
      "  -0.19134172 -0.49039264]\n",
      " [ 0.35355339 -0.09754516 -0.46193977  0.27778512  0.35355339 -0.41573481\n",
      "  -0.19134172  0.49039264]\n",
      " [ 0.35355339 -0.27778512 -0.19134172  0.49039264 -0.35355339 -0.09754516\n",
      "   0.46193977 -0.41573481]\n",
      " [ 0.35355339 -0.41573481  0.19134172  0.09754516 -0.35355339  0.49039264\n",
      "  -0.46193977  0.27778512]\n",
      " [ 0.35355339 -0.49039264  0.46193977 -0.41573481  0.35355339 -0.27778512\n",
      "   0.19134172 -0.09754516]]\n"
     ]
    }
   ],
   "source": [
    "D = create_dct_basis(N)\n",
    "print(D)"
   ]
  },
  {
   "cell_type": "markdown",
   "metadata": {},
   "source": [
    "How can we actually transform into the DCT basis here?  If we imagine the matrix `block_i` above as a linear transformation from and to the standard basis:\n",
    "$$ {\\bf I}_{\\mathcal{E}, \\mathcal{E}} $$\n",
    "We can write the equivalent transformation from and to the DCT basis as:\n",
    "$$ {\\bf I}_{\\mathcal{D}, \\mathcal{D}} = {\\bf D}^T {\\bf I}_{\\mathcal{E}, \\mathcal{E}} {\\bf D} $$"
   ]
  },
  {
   "cell_type": "code",
   "execution_count": 4,
   "metadata": {},
   "outputs": [],
   "source": [
    "freq_i = D.T @ block_i @ D"
   ]
  },
  {
   "cell_type": "code",
   "execution_count": 5,
   "metadata": {},
   "outputs": [
    {
     "data": {
      "text/plain": [
       "<matplotlib.image.AxesImage at 0x7ffb3cfa2820>"
      ]
     },
     "execution_count": 5,
     "metadata": {},
     "output_type": "execute_result"
    },
    {
     "data": {
      "image/png": "[encoded data removed]",
      "text/plain": [
       "<Figure size 432x288 with 1 Axes>"
      ]
     },
     "metadata": {
      "needs_background": "light"
     },
     "output_type": "display_data"
    }
   ],
   "source": [
    "plt.imshow(freq_i)"
   ]
  },
  {
   "cell_type": "code",
   "execution_count": 6,
   "metadata": {},
   "outputs": [],
   "source": [
    "tol = 0.5"
   ]
  },
  {
   "cell_type": "code",
   "execution_count": 7,
   "metadata": {},
   "outputs": [
    {
     "name": "stdout",
     "output_type": "stream",
     "text": [
      "[[ 5.50000000e+00  4.98792796e-16  2.50104055e+00  8.89430608e-16\n",
      "  -5.00000000e-01  1.35837358e-16 -4.94768815e-01  8.75245543e-15]\n",
      " [ 1.96261557e-16 -1.23259516e-32  1.23814431e-16  4.31408308e-32\n",
      "  -3.92523115e-17  0.00000000e+00 -8.79922067e-18  3.43585902e-31]\n",
      " [ 6.53281482e-01  6.69642937e-17 -8.53553391e-01 -1.79667053e-16\n",
      "   6.53281482e-01  1.69075459e-16 -3.53553391e-01 -1.24956327e-16]\n",
      " [ 9.81307787e-16  1.07852077e-31 -2.26385664e-16  6.16297582e-32\n",
      "   1.17756934e-16 -8.01186857e-32 -3.36871751e-17  9.48327905e-31]\n",
      " [ 1.50000000e+00  2.84101104e-16 -1.19447758e+00  5.75471016e-17\n",
      "  -5.00000000e-01 -9.39082468e-16  1.03596491e+00  9.59705696e-16]\n",
      " [ 3.53270803e-16  1.47911420e-31 -8.61546551e-16 -7.39557099e-32\n",
      "  -1.17756934e-16 -4.19082356e-31  4.84323454e-16 -2.61926472e-31]\n",
      " [ 2.70598050e-01  2.75310130e-17 -3.53553391e-01 -6.36347053e-17\n",
      "   2.70598050e-01  5.68014270e-17 -1.46446609e-01 -3.65791799e-17]\n",
      " [ 6.96728529e-15 -2.31111593e-33  2.33776565e-15  9.70668692e-31\n",
      "   9.81307787e-17  3.65156317e-31 -1.07455023e-15  1.00959174e-29]]\n"
     ]
    }
   ],
   "source": [
    "comp_freq = freq_i.copy()\n",
    "print(comp_freq)\n",
    "i,j = comp_freq.shape\n",
    "removed_elems = 0\n",
    "for a in range(i):\n",
    "    for b in range(j):\n",
    "        if((comp_freq[a][b] < tol ) and (comp_freq[a][b] > -tol)):\n",
    "            comp_freq[a][b] = 0\n",
    "            removed_elems += 1"
   ]
  },
  {
   "cell_type": "markdown",
   "metadata": {},
   "source": [
    "Print this value to get an idea of the rate of compression here."
   ]
  },
  {
   "cell_type": "code",
   "execution_count": 8,
   "metadata": {},
   "outputs": [
    {
     "name": "stdout",
     "output_type": "stream",
     "text": [
      "removed 55 / 64 entries\n"
     ]
    }
   ],
   "source": [
    "print(f\"removed {removed_elems} / {8 ** 2} entries\")"
   ]
  },
  {
   "cell_type": "code",
   "execution_count": 10,
   "metadata": {},
   "outputs": [],
   "source": [
    "#grade (enter your code in this cell - DO NOT DELETE THIS LINE) \n",
    "comp_i = la.inv(D.T) @ comp_freq @ la.inv(D)"
   ]
  },
  {
   "cell_type": "code",
   "execution_count": 11,
   "metadata": {},
   "outputs": [
    {
     "data": {
      "text/plain": [
       "<matplotlib.image.AxesImage at 0x7ffb3cf13460>"
      ]
     },
     "execution_count": 11,
     "metadata": {},
     "output_type": "execute_result"
    },
    {
     "data": {
      "image/png": "[encoded data removed]",
      "text/plain": [
       "<Figure size 432x288 with 1 Axes>"
      ]
     },
     "metadata": {
      "needs_background": "light"
     },
     "output_type": "display_data"
    }
   ],
   "source": [
    "plt.imshow(comp_i, cmap=\"RdYlBu\")"
   ]
  },
  {
   "cell_type": "markdown",
   "metadata": {},
   "source": [
    "### Compressing Alma"
   ]
  },
  {
   "cell_type": "markdown",
   "metadata": {},
   "source": [
    "This sort of image compression can be scaled up to much larger images than $8 \\times 8$ using the \"sectioning\" or \"chunking\" technique discussed earlier for audio compression.  We can break an image apart into $8 \\times 8$ chunks and then perform DCT compression on those.  This is in fact how the JPEG standard works."
   ]
  },
  {
   "cell_type": "code",
   "execution_count": 11,
   "metadata": {},
   "outputs": [],
   "source": [
    "alma = plt.imread(\"alma.jpg\")[:624,:,0]\n",
    "plt.figure(figsize=(20,20))\n",
    "plt.imshow(alma, cmap=\"gray\")"
   ]
  },
  {
   "cell_type": "markdown",
   "metadata": {},
   "source": [
    "Note that all pixel values of the image are integers between 0 and 255:"
   ]
  },
  {
   "cell_type": "code",
   "execution_count": 12,
   "metadata": {},
   "outputs": [],
   "source": [
    "alma.max()"
   ]
  },
  {
   "cell_type": "code",
   "execution_count": 13,
   "metadata": {},
   "outputs": [],
   "source": [
    "alma.min()"
   ]
  },
  {
   "cell_type": "code",
   "execution_count": 14,
   "metadata": {},
   "outputs": [],
   "source": [
    "alma.shape"
   ]
  },
  {
   "cell_type": "markdown",
   "metadata": {},
   "source": [
    "First we create the DCT basis for the chunks:"
   ]
  },
  {
   "cell_type": "code",
   "execution_count": 15,
   "metadata": {},
   "outputs": [],
   "source": [
    "N = 8\n",
    "D2 = create_dct_basis(N)"
   ]
  },
  {
   "cell_type": "code",
   "execution_count": 16,
   "metadata": {
    "scrolled": true
   },
   "outputs": [],
   "source": [
    "#grade (enter your code in this cell - DO NOT DELETE THIS LINE) \n",
    "alma_comp = np.zeros_like(alma)\n",
    "\n",
    "for u in range(0, alma.shape[0], N):\n",
    "    for v in range(0, alma.shape[1], N):\n",
    "        # Get get subimages of the alma image, and store them as chunk\n",
    "        chunk = alma[u:u+N, v:v+N].copy() \n",
    "        # Convert to DCT basis\n",
    "        # Get the tolerance\n",
    "        # Change to zero all the entries with value smaller than the tolerance\n",
    "        # Convert back to standard basis\n",
    "        # Store result as alma_comp\n"
   ]
  },
  {
   "cell_type": "code",
   "execution_count": 17,
   "metadata": {},
   "outputs": [],
   "source": [
    "plt.figure(figsize=(20,20))\n",
    "plt.imshow(alma_comp, cmap=\"gray\")"
   ]
  },
  {
   "cell_type": "code",
   "execution_count": null,
   "metadata": {},
   "outputs": [],
   "source": []
  }
 ],
 "metadata": {
  "kernelspec": {
   "display_name": "Python 3",
   "language": "python",
   "name": "python3"
  },
  "language_info": {
   "codemirror_mode": {
    "name": "ipython",
    "version": 3
   },
   "file_extension": ".py",
   "mimetype": "text/x-python",
   "name": "python",
   "nbconvert_exporter": "python",
   "pygments_lexer": "ipython3",
   "version": "3.8.6"
  }
 },
 "nbformat": 4,
 "nbformat_minor": 4
}
